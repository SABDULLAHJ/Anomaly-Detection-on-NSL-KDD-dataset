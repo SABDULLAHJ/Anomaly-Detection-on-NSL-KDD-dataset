{
 "cells": [
  {
   "cell_type": "code",
   "execution_count": 2,
   "metadata": {},
   "outputs": [],
   "source": [
    "import os\n",
    "import pandas as pd\n",
    "import numpy as np\n",
    "import matplotlib.pyplot as plt\n",
    "import seaborn as sns"
   ]
  },
  {
   "cell_type": "code",
   "execution_count": 3,
   "metadata": {},
   "outputs": [],
   "source": [
    "os.chdir(\"C:\\\\Users\\\\Syed Abdullah Jelani\\\\Desktop\\\\Safe-Tech\")\n",
    "train20 = pd.read_csv('1 - 20 Percent Training Set.csv', index_col=False, header=0);\n",
    "test = pd.read_csv('Test - KDDTest.csv', index_col=False, header=0);"
   ]
  },
  {
   "cell_type": "code",
   "execution_count": 4,
   "metadata": {},
   "outputs": [
    {
     "name": "stdout",
     "output_type": "stream",
     "text": [
      "<class 'pandas.core.frame.DataFrame'>\n",
      "RangeIndex: 22543 entries, 0 to 22542\n",
      "Data columns (total 42 columns):\n",
      "duration                       22543 non-null int64\n",
      "protocol_type                  22543 non-null object\n",
      "service                        22543 non-null object\n",
      "flag                           22543 non-null object\n",
      "src_bytes                      22543 non-null int64\n",
      "dst_bytes                      22543 non-null int64\n",
      "land                           22543 non-null int64\n",
      "wrong_fragment                 22543 non-null int64\n",
      "urgent                         22543 non-null int64\n",
      "hot                            22543 non-null int64\n",
      "num_failed_logins              22543 non-null int64\n",
      "logged_in                      22543 non-null int64\n",
      "num_compromised                22543 non-null int64\n",
      "root_shell                     22543 non-null int64\n",
      "su_attempted                   22543 non-null int64\n",
      "num_root                       22543 non-null int64\n",
      "num_file_creations             22543 non-null int64\n",
      "num_shells                     22543 non-null int64\n",
      "num_access_files               22543 non-null int64\n",
      "num_outbound_cmds              22543 non-null int64\n",
      "is_host_login                  22543 non-null int64\n",
      "is_guest_login                 22543 non-null int64\n",
      "count                          22543 non-null int64\n",
      "srv_count                      22543 non-null int64\n",
      "serror_rate                    22543 non-null float64\n",
      "srv_serror_rate                22543 non-null float64\n",
      "rerror_rate                    22543 non-null float64\n",
      "srv_rerror_rate                22543 non-null float64\n",
      "same_srv_rate                  22543 non-null float64\n",
      "diff_srv_rate                  22543 non-null float64\n",
      "srv_diff_host_rate             22543 non-null float64\n",
      "dst_host_count                 22543 non-null int64\n",
      "dst_host_srv_count             22543 non-null int64\n",
      "dst_host_same_srv_rate         22543 non-null float64\n",
      "dst_host_diff_srv_rate         22543 non-null float64\n",
      "dst_host_same_src_port_rate    22543 non-null float64\n",
      "dst_host_srv_diff_host_rate    22543 non-null float64\n",
      "dst_host_serror_rate           22543 non-null float64\n",
      "dst_host_srv_serror_rate       22543 non-null float64\n",
      "dst_host_rerror_rate           22543 non-null float64\n",
      "dst_host_srv_rerror_rate       22543 non-null float64\n",
      "target                         22543 non-null object\n",
      "dtypes: float64(15), int64(23), object(4)\n",
      "memory usage: 7.2+ MB\n"
     ]
    }
   ],
   "source": [
    "test.info()"
   ]
  },
  {
   "cell_type": "code",
   "execution_count": 5,
   "metadata": {},
   "outputs": [
    {
     "name": "stdout",
     "output_type": "stream",
     "text": [
      "<class 'pandas.core.frame.DataFrame'>\n",
      "RangeIndex: 25192 entries, 0 to 25191\n",
      "Data columns (total 42 columns):\n",
      "duration                       25192 non-null int64\n",
      "protocol_type                  25192 non-null object\n",
      "service                        25192 non-null object\n",
      "flag                           25192 non-null object\n",
      "src_bytes                      25192 non-null int64\n",
      "dst_bytes                      25192 non-null int64\n",
      "land                           25192 non-null int64\n",
      "wrong_fragment                 25192 non-null int64\n",
      "urgent                         25192 non-null int64\n",
      "hot                            25192 non-null int64\n",
      "num_failed_logins              25192 non-null int64\n",
      "logged_in                      25192 non-null int64\n",
      "num_compromised                25192 non-null int64\n",
      "root_shell                     25192 non-null int64\n",
      "su_attempted                   25192 non-null int64\n",
      "num_root                       25192 non-null int64\n",
      "num_file_creations             25192 non-null int64\n",
      "num_shells                     25192 non-null int64\n",
      "num_access_files               25192 non-null int64\n",
      "num_outbound_cmds              25192 non-null int64\n",
      "is_host_login                  25192 non-null int64\n",
      "is_guest_login                 25192 non-null int64\n",
      "count                          25192 non-null int64\n",
      "srv_count                      25192 non-null int64\n",
      "serror_rate                    25192 non-null float64\n",
      "srv_serror_rate                25192 non-null float64\n",
      "rerror_rate                    25192 non-null float64\n",
      "srv_rerror_rate                25192 non-null float64\n",
      "same_srv_rate                  25192 non-null float64\n",
      "diff_srv_rate                  25192 non-null float64\n",
      "srv_diff_host_rate             25192 non-null float64\n",
      "dst_host_count                 25192 non-null int64\n",
      "dst_host_srv_count             25192 non-null int64\n",
      "dst_host_same_srv_rate         25192 non-null float64\n",
      "dst_host_diff_srv_rate         25192 non-null float64\n",
      "dst_host_same_src_port_rate    25192 non-null float64\n",
      "dst_host_srv_diff_host_rate    25192 non-null float64\n",
      "dst_host_serror_rate           25192 non-null float64\n",
      "dst_host_srv_serror_rate       25192 non-null float64\n",
      "dst_host_rerror_rate           25192 non-null float64\n",
      "dst_host_srv_rerror_rate       25192 non-null float64\n",
      "target                         25192 non-null object\n",
      "dtypes: float64(15), int64(23), object(4)\n",
      "memory usage: 8.1+ MB\n"
     ]
    }
   ],
   "source": [
    "train20.info()"
   ]
  },
  {
   "cell_type": "code",
   "execution_count": 6,
   "metadata": {},
   "outputs": [
    {
     "data": {
      "text/html": [
       "<div>\n",
       "<style scoped>\n",
       "    .dataframe tbody tr th:only-of-type {\n",
       "        vertical-align: middle;\n",
       "    }\n",
       "\n",
       "    .dataframe tbody tr th {\n",
       "        vertical-align: top;\n",
       "    }\n",
       "\n",
       "    .dataframe thead th {\n",
       "        text-align: right;\n",
       "    }\n",
       "</style>\n",
       "<table border=\"1\" class=\"dataframe\">\n",
       "  <thead>\n",
       "    <tr style=\"text-align: right;\">\n",
       "      <th></th>\n",
       "      <th>duration</th>\n",
       "      <th>protocol_type</th>\n",
       "      <th>service</th>\n",
       "      <th>flag</th>\n",
       "      <th>src_bytes</th>\n",
       "      <th>dst_bytes</th>\n",
       "      <th>land</th>\n",
       "      <th>wrong_fragment</th>\n",
       "      <th>urgent</th>\n",
       "      <th>hot</th>\n",
       "      <th>...</th>\n",
       "      <th>dst_host_srv_count</th>\n",
       "      <th>dst_host_same_srv_rate</th>\n",
       "      <th>dst_host_diff_srv_rate</th>\n",
       "      <th>dst_host_same_src_port_rate</th>\n",
       "      <th>dst_host_srv_diff_host_rate</th>\n",
       "      <th>dst_host_serror_rate</th>\n",
       "      <th>dst_host_srv_serror_rate</th>\n",
       "      <th>dst_host_rerror_rate</th>\n",
       "      <th>dst_host_srv_rerror_rate</th>\n",
       "      <th>target</th>\n",
       "    </tr>\n",
       "  </thead>\n",
       "  <tbody>\n",
       "    <tr>\n",
       "      <th>0</th>\n",
       "      <td>0</td>\n",
       "      <td>tcp</td>\n",
       "      <td>private</td>\n",
       "      <td>REJ</td>\n",
       "      <td>0</td>\n",
       "      <td>0</td>\n",
       "      <td>0</td>\n",
       "      <td>0</td>\n",
       "      <td>0</td>\n",
       "      <td>0</td>\n",
       "      <td>...</td>\n",
       "      <td>10</td>\n",
       "      <td>0.04</td>\n",
       "      <td>0.06</td>\n",
       "      <td>0.00</td>\n",
       "      <td>0.00</td>\n",
       "      <td>0.0</td>\n",
       "      <td>0.0</td>\n",
       "      <td>1.00</td>\n",
       "      <td>1.00</td>\n",
       "      <td>neptune</td>\n",
       "    </tr>\n",
       "    <tr>\n",
       "      <th>1</th>\n",
       "      <td>0</td>\n",
       "      <td>tcp</td>\n",
       "      <td>private</td>\n",
       "      <td>REJ</td>\n",
       "      <td>0</td>\n",
       "      <td>0</td>\n",
       "      <td>0</td>\n",
       "      <td>0</td>\n",
       "      <td>0</td>\n",
       "      <td>0</td>\n",
       "      <td>...</td>\n",
       "      <td>1</td>\n",
       "      <td>0.00</td>\n",
       "      <td>0.06</td>\n",
       "      <td>0.00</td>\n",
       "      <td>0.00</td>\n",
       "      <td>0.0</td>\n",
       "      <td>0.0</td>\n",
       "      <td>1.00</td>\n",
       "      <td>1.00</td>\n",
       "      <td>neptune</td>\n",
       "    </tr>\n",
       "    <tr>\n",
       "      <th>2</th>\n",
       "      <td>2</td>\n",
       "      <td>tcp</td>\n",
       "      <td>ftp_data</td>\n",
       "      <td>SF</td>\n",
       "      <td>12983</td>\n",
       "      <td>0</td>\n",
       "      <td>0</td>\n",
       "      <td>0</td>\n",
       "      <td>0</td>\n",
       "      <td>0</td>\n",
       "      <td>...</td>\n",
       "      <td>86</td>\n",
       "      <td>0.61</td>\n",
       "      <td>0.04</td>\n",
       "      <td>0.61</td>\n",
       "      <td>0.02</td>\n",
       "      <td>0.0</td>\n",
       "      <td>0.0</td>\n",
       "      <td>0.00</td>\n",
       "      <td>0.00</td>\n",
       "      <td>normal</td>\n",
       "    </tr>\n",
       "    <tr>\n",
       "      <th>3</th>\n",
       "      <td>0</td>\n",
       "      <td>icmp</td>\n",
       "      <td>eco_i</td>\n",
       "      <td>SF</td>\n",
       "      <td>20</td>\n",
       "      <td>0</td>\n",
       "      <td>0</td>\n",
       "      <td>0</td>\n",
       "      <td>0</td>\n",
       "      <td>0</td>\n",
       "      <td>...</td>\n",
       "      <td>57</td>\n",
       "      <td>1.00</td>\n",
       "      <td>0.00</td>\n",
       "      <td>1.00</td>\n",
       "      <td>0.28</td>\n",
       "      <td>0.0</td>\n",
       "      <td>0.0</td>\n",
       "      <td>0.00</td>\n",
       "      <td>0.00</td>\n",
       "      <td>saint</td>\n",
       "    </tr>\n",
       "    <tr>\n",
       "      <th>4</th>\n",
       "      <td>1</td>\n",
       "      <td>tcp</td>\n",
       "      <td>telnet</td>\n",
       "      <td>RSTO</td>\n",
       "      <td>0</td>\n",
       "      <td>15</td>\n",
       "      <td>0</td>\n",
       "      <td>0</td>\n",
       "      <td>0</td>\n",
       "      <td>0</td>\n",
       "      <td>...</td>\n",
       "      <td>86</td>\n",
       "      <td>0.31</td>\n",
       "      <td>0.17</td>\n",
       "      <td>0.03</td>\n",
       "      <td>0.02</td>\n",
       "      <td>0.0</td>\n",
       "      <td>0.0</td>\n",
       "      <td>0.83</td>\n",
       "      <td>0.71</td>\n",
       "      <td>mscan</td>\n",
       "    </tr>\n",
       "  </tbody>\n",
       "</table>\n",
       "<p>5 rows × 42 columns</p>\n",
       "</div>"
      ],
      "text/plain": [
       "   duration protocol_type   service  flag  src_bytes  dst_bytes  land  \\\n",
       "0         0           tcp   private   REJ          0          0     0   \n",
       "1         0           tcp   private   REJ          0          0     0   \n",
       "2         2           tcp  ftp_data    SF      12983          0     0   \n",
       "3         0          icmp     eco_i    SF         20          0     0   \n",
       "4         1           tcp    telnet  RSTO          0         15     0   \n",
       "\n",
       "   wrong_fragment  urgent  hot   ...     dst_host_srv_count  \\\n",
       "0               0       0    0   ...                     10   \n",
       "1               0       0    0   ...                      1   \n",
       "2               0       0    0   ...                     86   \n",
       "3               0       0    0   ...                     57   \n",
       "4               0       0    0   ...                     86   \n",
       "\n",
       "   dst_host_same_srv_rate  dst_host_diff_srv_rate  \\\n",
       "0                    0.04                    0.06   \n",
       "1                    0.00                    0.06   \n",
       "2                    0.61                    0.04   \n",
       "3                    1.00                    0.00   \n",
       "4                    0.31                    0.17   \n",
       "\n",
       "   dst_host_same_src_port_rate  dst_host_srv_diff_host_rate  \\\n",
       "0                         0.00                         0.00   \n",
       "1                         0.00                         0.00   \n",
       "2                         0.61                         0.02   \n",
       "3                         1.00                         0.28   \n",
       "4                         0.03                         0.02   \n",
       "\n",
       "   dst_host_serror_rate  dst_host_srv_serror_rate  dst_host_rerror_rate  \\\n",
       "0                   0.0                       0.0                  1.00   \n",
       "1                   0.0                       0.0                  1.00   \n",
       "2                   0.0                       0.0                  0.00   \n",
       "3                   0.0                       0.0                  0.00   \n",
       "4                   0.0                       0.0                  0.83   \n",
       "\n",
       "   dst_host_srv_rerror_rate   target  \n",
       "0                      1.00  neptune  \n",
       "1                      1.00  neptune  \n",
       "2                      0.00   normal  \n",
       "3                      0.00    saint  \n",
       "4                      0.71    mscan  \n",
       "\n",
       "[5 rows x 42 columns]"
      ]
     },
     "execution_count": 6,
     "metadata": {},
     "output_type": "execute_result"
    }
   ],
   "source": [
    "test.head()"
   ]
  },
  {
   "cell_type": "code",
   "execution_count": 7,
   "metadata": {},
   "outputs": [
    {
     "data": {
      "text/html": [
       "<div>\n",
       "<style scoped>\n",
       "    .dataframe tbody tr th:only-of-type {\n",
       "        vertical-align: middle;\n",
       "    }\n",
       "\n",
       "    .dataframe tbody tr th {\n",
       "        vertical-align: top;\n",
       "    }\n",
       "\n",
       "    .dataframe thead th {\n",
       "        text-align: right;\n",
       "    }\n",
       "</style>\n",
       "<table border=\"1\" class=\"dataframe\">\n",
       "  <thead>\n",
       "    <tr style=\"text-align: right;\">\n",
       "      <th></th>\n",
       "      <th>duration</th>\n",
       "      <th>protocol_type</th>\n",
       "      <th>service</th>\n",
       "      <th>flag</th>\n",
       "      <th>src_bytes</th>\n",
       "      <th>dst_bytes</th>\n",
       "      <th>land</th>\n",
       "      <th>wrong_fragment</th>\n",
       "      <th>urgent</th>\n",
       "      <th>hot</th>\n",
       "      <th>...</th>\n",
       "      <th>dst_host_srv_count</th>\n",
       "      <th>dst_host_same_srv_rate</th>\n",
       "      <th>dst_host_diff_srv_rate</th>\n",
       "      <th>dst_host_same_src_port_rate</th>\n",
       "      <th>dst_host_srv_diff_host_rate</th>\n",
       "      <th>dst_host_serror_rate</th>\n",
       "      <th>dst_host_srv_serror_rate</th>\n",
       "      <th>dst_host_rerror_rate</th>\n",
       "      <th>dst_host_srv_rerror_rate</th>\n",
       "      <th>target</th>\n",
       "    </tr>\n",
       "  </thead>\n",
       "  <tbody>\n",
       "    <tr>\n",
       "      <th>0</th>\n",
       "      <td>0</td>\n",
       "      <td>tcp</td>\n",
       "      <td>ftp_data</td>\n",
       "      <td>SF</td>\n",
       "      <td>491</td>\n",
       "      <td>0</td>\n",
       "      <td>0</td>\n",
       "      <td>0</td>\n",
       "      <td>0</td>\n",
       "      <td>0</td>\n",
       "      <td>...</td>\n",
       "      <td>25</td>\n",
       "      <td>0.17</td>\n",
       "      <td>0.03</td>\n",
       "      <td>0.17</td>\n",
       "      <td>0.00</td>\n",
       "      <td>0.00</td>\n",
       "      <td>0.00</td>\n",
       "      <td>0.05</td>\n",
       "      <td>0.00</td>\n",
       "      <td>normal</td>\n",
       "    </tr>\n",
       "    <tr>\n",
       "      <th>1</th>\n",
       "      <td>0</td>\n",
       "      <td>udp</td>\n",
       "      <td>other</td>\n",
       "      <td>SF</td>\n",
       "      <td>146</td>\n",
       "      <td>0</td>\n",
       "      <td>0</td>\n",
       "      <td>0</td>\n",
       "      <td>0</td>\n",
       "      <td>0</td>\n",
       "      <td>...</td>\n",
       "      <td>1</td>\n",
       "      <td>0.00</td>\n",
       "      <td>0.60</td>\n",
       "      <td>0.88</td>\n",
       "      <td>0.00</td>\n",
       "      <td>0.00</td>\n",
       "      <td>0.00</td>\n",
       "      <td>0.00</td>\n",
       "      <td>0.00</td>\n",
       "      <td>normal</td>\n",
       "    </tr>\n",
       "    <tr>\n",
       "      <th>2</th>\n",
       "      <td>0</td>\n",
       "      <td>tcp</td>\n",
       "      <td>private</td>\n",
       "      <td>S0</td>\n",
       "      <td>0</td>\n",
       "      <td>0</td>\n",
       "      <td>0</td>\n",
       "      <td>0</td>\n",
       "      <td>0</td>\n",
       "      <td>0</td>\n",
       "      <td>...</td>\n",
       "      <td>26</td>\n",
       "      <td>0.10</td>\n",
       "      <td>0.05</td>\n",
       "      <td>0.00</td>\n",
       "      <td>0.00</td>\n",
       "      <td>1.00</td>\n",
       "      <td>1.00</td>\n",
       "      <td>0.00</td>\n",
       "      <td>0.00</td>\n",
       "      <td>neptune</td>\n",
       "    </tr>\n",
       "    <tr>\n",
       "      <th>3</th>\n",
       "      <td>0</td>\n",
       "      <td>tcp</td>\n",
       "      <td>http</td>\n",
       "      <td>SF</td>\n",
       "      <td>232</td>\n",
       "      <td>8153</td>\n",
       "      <td>0</td>\n",
       "      <td>0</td>\n",
       "      <td>0</td>\n",
       "      <td>0</td>\n",
       "      <td>...</td>\n",
       "      <td>255</td>\n",
       "      <td>1.00</td>\n",
       "      <td>0.00</td>\n",
       "      <td>0.03</td>\n",
       "      <td>0.04</td>\n",
       "      <td>0.03</td>\n",
       "      <td>0.01</td>\n",
       "      <td>0.00</td>\n",
       "      <td>0.01</td>\n",
       "      <td>normal</td>\n",
       "    </tr>\n",
       "    <tr>\n",
       "      <th>4</th>\n",
       "      <td>0</td>\n",
       "      <td>tcp</td>\n",
       "      <td>http</td>\n",
       "      <td>SF</td>\n",
       "      <td>199</td>\n",
       "      <td>420</td>\n",
       "      <td>0</td>\n",
       "      <td>0</td>\n",
       "      <td>0</td>\n",
       "      <td>0</td>\n",
       "      <td>...</td>\n",
       "      <td>255</td>\n",
       "      <td>1.00</td>\n",
       "      <td>0.00</td>\n",
       "      <td>0.00</td>\n",
       "      <td>0.00</td>\n",
       "      <td>0.00</td>\n",
       "      <td>0.00</td>\n",
       "      <td>0.00</td>\n",
       "      <td>0.00</td>\n",
       "      <td>normal</td>\n",
       "    </tr>\n",
       "  </tbody>\n",
       "</table>\n",
       "<p>5 rows × 42 columns</p>\n",
       "</div>"
      ],
      "text/plain": [
       "   duration protocol_type   service flag  src_bytes  dst_bytes  land  \\\n",
       "0         0           tcp  ftp_data   SF        491          0     0   \n",
       "1         0           udp     other   SF        146          0     0   \n",
       "2         0           tcp   private   S0          0          0     0   \n",
       "3         0           tcp      http   SF        232       8153     0   \n",
       "4         0           tcp      http   SF        199        420     0   \n",
       "\n",
       "   wrong_fragment  urgent  hot   ...     dst_host_srv_count  \\\n",
       "0               0       0    0   ...                     25   \n",
       "1               0       0    0   ...                      1   \n",
       "2               0       0    0   ...                     26   \n",
       "3               0       0    0   ...                    255   \n",
       "4               0       0    0   ...                    255   \n",
       "\n",
       "   dst_host_same_srv_rate  dst_host_diff_srv_rate  \\\n",
       "0                    0.17                    0.03   \n",
       "1                    0.00                    0.60   \n",
       "2                    0.10                    0.05   \n",
       "3                    1.00                    0.00   \n",
       "4                    1.00                    0.00   \n",
       "\n",
       "   dst_host_same_src_port_rate  dst_host_srv_diff_host_rate  \\\n",
       "0                         0.17                         0.00   \n",
       "1                         0.88                         0.00   \n",
       "2                         0.00                         0.00   \n",
       "3                         0.03                         0.04   \n",
       "4                         0.00                         0.00   \n",
       "\n",
       "   dst_host_serror_rate  dst_host_srv_serror_rate  dst_host_rerror_rate  \\\n",
       "0                  0.00                      0.00                  0.05   \n",
       "1                  0.00                      0.00                  0.00   \n",
       "2                  1.00                      1.00                  0.00   \n",
       "3                  0.03                      0.01                  0.00   \n",
       "4                  0.00                      0.00                  0.00   \n",
       "\n",
       "   dst_host_srv_rerror_rate   target  \n",
       "0                      0.00   normal  \n",
       "1                      0.00   normal  \n",
       "2                      0.00  neptune  \n",
       "3                      0.01   normal  \n",
       "4                      0.00   normal  \n",
       "\n",
       "[5 rows x 42 columns]"
      ]
     },
     "execution_count": 7,
     "metadata": {},
     "output_type": "execute_result"
    }
   ],
   "source": [
    "train20.head()"
   ]
  },
  {
   "cell_type": "code",
   "execution_count": 8,
   "metadata": {},
   "outputs": [
    {
     "name": "stdout",
     "output_type": "stream",
     "text": [
      "Training Features shape:  (25192, 118)\n",
      "Testing Features shape:  (22543, 115)\n"
     ]
    }
   ],
   "source": [
    "#ONE-HOT ENCODING OF CATEGORICAL VARIABLES\n",
    "train20_target = train20[\"target\"]\n",
    "test_target = test[\"target\"]\n",
    "train20 = train20.drop(\"target\" , axis =1)\n",
    "test = test.drop('target', axis =1)\n",
    "train20 = pd.get_dummies(train20)\n",
    "test = pd.get_dummies(test)\n",
    "\n",
    "\n",
    "print('Training Features shape: ', train20.shape)\n",
    "print('Testing Features shape: ', test.shape)"
   ]
  },
  {
   "cell_type": "code",
   "execution_count": 9,
   "metadata": {},
   "outputs": [
    {
     "name": "stdout",
     "output_type": "stream",
     "text": [
      "Training Features shape:  (25192, 116)\n",
      "Testing Features shape:  (22543, 116)\n"
     ]
    }
   ],
   "source": [
    "#aligning train and test sets to have same features\n",
    "train20['target'] = train20_target\n",
    "test['target'] = test_target\n",
    "\n",
    "\n",
    "train20, test = train20.align(test, join = 'inner', axis = 1)\n",
    "\n",
    "\n",
    "print('Training Features shape: ', train20.shape)\n",
    "print('Testing Features shape: ', test.shape)"
   ]
  },
  {
   "cell_type": "code",
   "execution_count": 10,
   "metadata": {},
   "outputs": [
    {
     "data": {
      "text/plain": [
       "0             normal\n",
       "1             normal\n",
       "2            neptune\n",
       "3             normal\n",
       "4             normal\n",
       "5            neptune\n",
       "6            neptune\n",
       "7            neptune\n",
       "8            neptune\n",
       "9            neptune\n",
       "10           neptune\n",
       "11           neptune\n",
       "12            normal\n",
       "13       warezclient\n",
       "14           neptune\n",
       "15           neptune\n",
       "16            normal\n",
       "17           ipsweep\n",
       "18            normal\n",
       "19            normal\n",
       "20           neptune\n",
       "21           neptune\n",
       "22            normal\n",
       "23            normal\n",
       "24           neptune\n",
       "25            normal\n",
       "26           neptune\n",
       "27            normal\n",
       "28            normal\n",
       "29            normal\n",
       "            ...     \n",
       "25162         normal\n",
       "25163        neptune\n",
       "25164         normal\n",
       "25165         normal\n",
       "25166        neptune\n",
       "25167         normal\n",
       "25168         normal\n",
       "25169         normal\n",
       "25170        neptune\n",
       "25171        neptune\n",
       "25172        neptune\n",
       "25173         normal\n",
       "25174        neptune\n",
       "25175         normal\n",
       "25176         normal\n",
       "25177         normal\n",
       "25178        neptune\n",
       "25179        neptune\n",
       "25180        neptune\n",
       "25181        ipsweep\n",
       "25182          satan\n",
       "25183          satan\n",
       "25184         normal\n",
       "25185         normal\n",
       "25186         normal\n",
       "25187        neptune\n",
       "25188    warezclient\n",
       "25189        neptune\n",
       "25190        neptune\n",
       "25191        neptune\n",
       "Name: target, Length: 25192, dtype: object"
      ]
     },
     "execution_count": 10,
     "metadata": {},
     "output_type": "execute_result"
    }
   ],
   "source": [
    "train20_target"
   ]
  },
  {
   "cell_type": "code",
   "execution_count": 11,
   "metadata": {},
   "outputs": [
    {
     "data": {
      "text/plain": [
       "0             neptune\n",
       "1             neptune\n",
       "2              normal\n",
       "3               saint\n",
       "4               mscan\n",
       "5              normal\n",
       "6              normal\n",
       "7        guess_passwd\n",
       "8              normal\n",
       "9        guess_passwd\n",
       "10              mscan\n",
       "11             normal\n",
       "12            neptune\n",
       "13            neptune\n",
       "14             normal\n",
       "15             normal\n",
       "16             normal\n",
       "17             normal\n",
       "18             normal\n",
       "19            neptune\n",
       "20            neptune\n",
       "21              mscan\n",
       "22             normal\n",
       "23             normal\n",
       "24            neptune\n",
       "25            neptune\n",
       "26             normal\n",
       "27             normal\n",
       "28              smurf\n",
       "29             normal\n",
       "             ...     \n",
       "22513          normal\n",
       "22514         apache2\n",
       "22515          normal\n",
       "22516    processtable\n",
       "22517          normal\n",
       "22518    processtable\n",
       "22519           satan\n",
       "22520           satan\n",
       "22521            back\n",
       "22522          normal\n",
       "22523         rootkit\n",
       "22524         apache2\n",
       "22525          normal\n",
       "22526          normal\n",
       "22527           smurf\n",
       "22528          normal\n",
       "22529         neptune\n",
       "22530         neptune\n",
       "22531          normal\n",
       "22532          normal\n",
       "22533         neptune\n",
       "22534          normal\n",
       "22535         neptune\n",
       "22536        mailbomb\n",
       "22537           smurf\n",
       "22538          normal\n",
       "22539          normal\n",
       "22540            back\n",
       "22541          normal\n",
       "22542           mscan\n",
       "Name: target, Length: 22543, dtype: object"
      ]
     },
     "execution_count": 11,
     "metadata": {},
     "output_type": "execute_result"
    }
   ],
   "source": [
    "test_target"
   ]
  },
  {
   "cell_type": "code",
   "execution_count": 12,
   "metadata": {},
   "outputs": [],
   "source": [
    "test =test.drop(\"target\",axis=1)\n",
    "train20 = train20.drop(\"target\",axis=1)"
   ]
  },
  {
   "cell_type": "code",
   "execution_count": 13,
   "metadata": {},
   "outputs": [
    {
     "data": {
      "text/plain": [
       "LogisticRegression(C=1.0, class_weight=None, dual=False, fit_intercept=True,\n",
       "          intercept_scaling=1, max_iter=100, multi_class='ovr', n_jobs=1,\n",
       "          penalty='l2', random_state=None, solver='lbfgs', tol=0.0001,\n",
       "          verbose=0, warm_start=False)"
      ]
     },
     "execution_count": 13,
     "metadata": {},
     "output_type": "execute_result"
    }
   ],
   "source": [
    "from sklearn.linear_model import LogisticRegression\n",
    "\n",
    "# all parameters not specified are set to their defaults\n",
    "# default solver is incredibly slow which is why it was changed to 'lbfgs'\n",
    "logisticRegr = LogisticRegression(solver = 'lbfgs')\n",
    "\n",
    "logisticRegr.fit(train20,train20_target)"
   ]
  },
  {
   "cell_type": "code",
   "execution_count": 14,
   "metadata": {},
   "outputs": [
    {
     "data": {
      "text/plain": [
       "array(['neptune', 'neptune', 'normal', 'ipsweep', 'normal', 'normal',\n",
       "       'normal', 'normal', 'normal', 'normal'], dtype=object)"
      ]
     },
     "execution_count": 14,
     "metadata": {},
     "output_type": "execute_result"
    }
   ],
   "source": [
    "logisticRegr.predict(test[0:10])\n"
   ]
  },
  {
   "cell_type": "code",
   "execution_count": 15,
   "metadata": {},
   "outputs": [
    {
     "data": {
      "text/plain": [
       "0.6917446657499002"
      ]
     },
     "execution_count": 15,
     "metadata": {},
     "output_type": "execute_result"
    }
   ],
   "source": [
    "logisticRegr.score(test, test_target)\n"
   ]
  },
  {
   "cell_type": "code",
   "execution_count": 16,
   "metadata": {},
   "outputs": [],
   "source": [
    "# ^ Logistic regression without any data manipulation except one-hot and label encoding\n",
    "#0.69 score"
   ]
  },
  {
   "cell_type": "code",
   "execution_count": 17,
   "metadata": {},
   "outputs": [],
   "source": [
    "\n",
    "from collections import Counter\n",
    "from sklearn.model_selection import train_test_split\n",
    "from sklearn.feature_extraction.text import TfidfVectorizer, CountVectorizer\n",
    "from sklearn.naive_bayes import MultinomialNB\n",
    "from sklearn.naive_bayes import GaussianNB\n",
    "from sklearn.naive_bayes import BernoulliNB\n",
    "from sklearn.svm import SVC\n",
    "from sklearn.neural_network import MLPClassifier\n",
    "from sklearn.ensemble import AdaBoostClassifier\n",
    "from sklearn.tree import DecisionTreeClassifier\n",
    "from sklearn.ensemble import RandomForestClassifier\n",
    "from sklearn.ensemble import GradientBoostingClassifier\n",
    "from sklearn.linear_model import LogisticRegression\n",
    "from sklearn.model_selection import GridSearchCV\n",
    "from sklearn.metrics import f1_score, confusion_matrix\n",
    "\n",
    "clfs = {\n",
    "    'mnb': MultinomialNB(),\n",
    "    'gnb': GaussianNB(),\n",
    "#    'svm1': SVC(kernel='linear'),\n",
    "#   'svm2': SVC(kernel='rbf'),\n",
    "#    'svm3': SVC(kernel='sigmoid'),\n",
    "    'mlp1': MLPClassifier(),\n",
    "    'mlp2': MLPClassifier(hidden_layer_sizes=[100, 100]),\n",
    "   'ada': AdaBoostClassifier(),\n",
    "    'dtc': DecisionTreeClassifier(),\n",
    "    'rfc': RandomForestClassifier(),\n",
    "    'gbc': GradientBoostingClassifier(),\n",
    "    'lr': LogisticRegression()\n",
    "}\n"
   ]
  },
  {
   "cell_type": "code",
   "execution_count": 20,
   "metadata": {},
   "outputs": [
    {
     "name": "stdout",
     "output_type": "stream",
     "text": [
      "mnb\n"
     ]
    },
    {
     "name": "stderr",
     "output_type": "stream",
     "text": [
      "C:\\Users\\Syed Abdullah Jelani\\Anaconda3\\lib\\site-packages\\sklearn\\metrics\\classification.py:1135: UndefinedMetricWarning: F-score is ill-defined and being set to 0.0 in labels with no predicted samples.\n",
      "  'precision', 'predicted', average, warn_for)\n",
      "C:\\Users\\Syed Abdullah Jelani\\Anaconda3\\lib\\site-packages\\sklearn\\metrics\\classification.py:1137: UndefinedMetricWarning: F-score is ill-defined and being set to 0.0 in labels with no true samples.\n",
      "  'recall', 'true', average, warn_for)\n"
     ]
    },
    {
     "name": "stdout",
     "output_type": "stream",
     "text": [
      "gnb\n",
      "mlp1\n",
      "mlp2\n",
      "ada\n"
     ]
    },
    {
     "name": "stderr",
     "output_type": "stream",
     "text": [
      "C:\\Users\\Syed Abdullah Jelani\\Anaconda3\\lib\\site-packages\\sklearn\\metrics\\classification.py:1137: UndefinedMetricWarning: F-score is ill-defined and being set to 0.0 in labels with no true samples.\n",
      "  'recall', 'true', average, warn_for)\n"
     ]
    },
    {
     "name": "stdout",
     "output_type": "stream",
     "text": [
      "dtc\n"
     ]
    },
    {
     "name": "stderr",
     "output_type": "stream",
     "text": [
      "C:\\Users\\Syed Abdullah Jelani\\Anaconda3\\lib\\site-packages\\sklearn\\metrics\\classification.py:1135: UndefinedMetricWarning: F-score is ill-defined and being set to 0.0 in labels with no predicted samples.\n",
      "  'precision', 'predicted', average, warn_for)\n"
     ]
    },
    {
     "name": "stdout",
     "output_type": "stream",
     "text": [
      "rfc\n"
     ]
    },
    {
     "name": "stderr",
     "output_type": "stream",
     "text": [
      "C:\\Users\\Syed Abdullah Jelani\\Anaconda3\\lib\\site-packages\\sklearn\\metrics\\classification.py:1135: UndefinedMetricWarning: F-score is ill-defined and being set to 0.0 in labels with no predicted samples.\n",
      "  'precision', 'predicted', average, warn_for)\n",
      "C:\\Users\\Syed Abdullah Jelani\\Anaconda3\\lib\\site-packages\\sklearn\\metrics\\classification.py:1137: UndefinedMetricWarning: F-score is ill-defined and being set to 0.0 in labels with no true samples.\n",
      "  'recall', 'true', average, warn_for)\n"
     ]
    },
    {
     "name": "stdout",
     "output_type": "stream",
     "text": [
      "gbc\n",
      "lr\n"
     ]
    }
   ],
   "source": [
    "f1_scores = dict()\n",
    "for clf_name in clfs:\n",
    "    print(clf_name)\n",
    "    clf = clfs[clf_name]\n",
    "    clf.fit(train20, train20_target)\n",
    "    y_pred = clf.predict(test)\n",
    "    f1_scores[clf_name] = f1_score(y_pred, test_target,average=\"weighted\")"
   ]
  },
  {
   "cell_type": "code",
   "execution_count": 21,
   "metadata": {},
   "outputs": [
    {
     "data": {
      "text/plain": [
       "{'ada': 0.7573212302945069,\n",
       " 'dtc': 0.8073602608942091,\n",
       " 'gbc': 0.8203724365747385,\n",
       " 'gnb': 0.3654325976084955,\n",
       " 'lr': 0.7520218317949396,\n",
       " 'mlp1': 0.7738521174019363,\n",
       " 'mlp2': 0.7531583321725379,\n",
       " 'mnb': 0.30206130759982264,\n",
       " 'rfc': 0.8238568493191202}"
      ]
     },
     "execution_count": 21,
     "metadata": {},
     "output_type": "execute_result"
    }
   ],
   "source": [
    "f1_scores"
   ]
  },
  {
   "cell_type": "code",
   "execution_count": 22,
   "metadata": {},
   "outputs": [
    {
     "data": {
      "text/plain": [
       "{'ada': 0.6256487601472741,\n",
       " 'dtc': 0.7197799760457791,\n",
       " 'gbc': 0.7222641174644013,\n",
       " 'gnb': 0.32023244466131395,\n",
       " 'lr': 0.6362507208446081,\n",
       " 'mlp1': 0.6818968194117908,\n",
       " 'mlp2': 0.6649514261633322,\n",
       " 'mnb': 0.2901122299605199,\n",
       " 'rfc': 0.7226633544781085}"
      ]
     },
     "execution_count": 22,
     "metadata": {},
     "output_type": "execute_result"
    }
   ],
   "source": [
    "accuracy={}\n",
    "for i in clfs:\n",
    "    accuracy[i] = clfs[i].score(test, test_target)\n",
    "accuracy\n"
   ]
  },
  {
   "cell_type": "code",
   "execution_count": 23,
   "metadata": {},
   "outputs": [],
   "source": [
    "#CONCLUSION : ACCURACY DECREASES WITH LABEL-ENCODED TARGETS( PROBABLY DUE TO WEIGHT ASSIGNED??)\n",
    "#RFC IS THE WAY TO GO!!!\n"
   ]
  },
  {
   "cell_type": "code",
   "execution_count": 24,
   "metadata": {},
   "outputs": [],
   "source": [
    "#EXPLORATORY DATA ANALYSIS"
   ]
  },
  {
   "cell_type": "code",
   "execution_count": 25,
   "metadata": {},
   "outputs": [],
   "source": [
    "train20_target_div =train20_target\n"
   ]
  },
  {
   "cell_type": "code",
   "execution_count": 26,
   "metadata": {},
   "outputs": [],
   "source": [
    "#create only normal and attack classes!!!\n",
    "\n",
    "train20_target_div =train20_target_div.replace((\"neptune\",\"warezclient\",\"ipsweep\",\"satan\",'portsweep', 'teardrop', 'nmap', 'smurf',\n",
    "       'pod', 'back', 'guess_passwd', 'ftp_write', 'multihop', 'rootkit',\n",
    "       'buffer_overflow', 'imap', 'warezmaster', 'phf', 'land',\n",
    "       'loadmodule', 'spy'),\"attack\")"
   ]
  },
  {
   "cell_type": "code",
   "execution_count": 27,
   "metadata": {},
   "outputs": [
    {
     "name": "stdout",
     "output_type": "stream",
     "text": [
      "No. of attacks :  11743\n",
      "No. of normal :  13449\n",
      "A/N :  0.8731504201055841\n"
     ]
    }
   ],
   "source": [
    "#attack to normal ratio\n",
    "print(\"No. of attacks : \", list(train20_target_div).count(\"attack\"))\n",
    "print(\"No. of normal : \", list(train20_target_div).count(\"normal\"))\n",
    "print(\"A/N : \", list(train20_target_div).count(\"attack\") / list(train20_target_div).count(\"normal\"))"
   ]
  },
  {
   "cell_type": "code",
   "execution_count": 28,
   "metadata": {
    "scrolled": true
   },
   "outputs": [
    {
     "data": {
      "text/plain": [
       "Text(0,0.5,'Frequency')"
      ]
     },
     "execution_count": 28,
     "metadata": {},
     "output_type": "execute_result"
    },
    {
     "data": {
      "image/png": "[encoded data removed]",
      "text/plain": [
       "<matplotlib.figure.Figure at 0x29fbf434a20>"
      ]
     },
     "metadata": {},
     "output_type": "display_data"
    }
   ],
   "source": [
    "plt.hist(train20_target_div)\n",
    "plt.title(\"Distribution of labels\")\n",
    "plt.xlabel(\"Type of Occurence\")\n",
    "plt.ylabel(\"Frequency\")"
   ]
  },
  {
   "cell_type": "code",
   "execution_count": 29,
   "metadata": {},
   "outputs": [],
   "source": [
    "#2 values make no contextual sense\n",
    "train20.su_attempted = train20.su_attempted.replace(2,0)"
   ]
  },
  {
   "cell_type": "code",
   "execution_count": 30,
   "metadata": {},
   "outputs": [],
   "source": [
    "train20_div = train20\n",
    "train20_div[\"target\"] = train20_target_div\n"
   ]
  },
  {
   "cell_type": "code",
   "execution_count": 31,
   "metadata": {},
   "outputs": [],
   "source": [
    "train20_div['target'] = train20_div['target'].replace(\"normal\",0)\n",
    "train20_div['target'] = train20_div['target'].replace(\"attack\",1)"
   ]
  },
  {
   "cell_type": "code",
   "execution_count": 47,
   "metadata": {},
   "outputs": [],
   "source": [
    "test_div = test\n",
    "test_div['target'] = test_target.replace(\"normal\",0)\n",
    "test_div['target'] = test_target.replace(\"attack\",1)"
   ]
  },
  {
   "cell_type": "code",
   "execution_count": 48,
   "metadata": {},
   "outputs": [
    {
     "data": {
      "text/html": [
       "<div>\n",
       "<style scoped>\n",
       "    .dataframe tbody tr th:only-of-type {\n",
       "        vertical-align: middle;\n",
       "    }\n",
       "\n",
       "    .dataframe tbody tr th {\n",
       "        vertical-align: top;\n",
       "    }\n",
       "\n",
       "    .dataframe thead th {\n",
       "        text-align: right;\n",
       "    }\n",
       "</style>\n",
       "<table border=\"1\" class=\"dataframe\">\n",
       "  <thead>\n",
       "    <tr style=\"text-align: right;\">\n",
       "      <th></th>\n",
       "      <th>duration</th>\n",
       "      <th>src_bytes</th>\n",
       "      <th>dst_bytes</th>\n",
       "      <th>land</th>\n",
       "      <th>wrong_fragment</th>\n",
       "      <th>urgent</th>\n",
       "      <th>hot</th>\n",
       "      <th>num_failed_logins</th>\n",
       "      <th>logged_in</th>\n",
       "      <th>num_compromised</th>\n",
       "      <th>...</th>\n",
       "      <th>flag_RSTO</th>\n",
       "      <th>flag_RSTOS0</th>\n",
       "      <th>flag_RSTR</th>\n",
       "      <th>flag_S0</th>\n",
       "      <th>flag_S1</th>\n",
       "      <th>flag_S2</th>\n",
       "      <th>flag_S3</th>\n",
       "      <th>flag_SF</th>\n",
       "      <th>flag_SH</th>\n",
       "      <th>target</th>\n",
       "    </tr>\n",
       "  </thead>\n",
       "  <tbody>\n",
       "    <tr>\n",
       "      <th>0</th>\n",
       "      <td>0</td>\n",
       "      <td>491</td>\n",
       "      <td>0</td>\n",
       "      <td>0</td>\n",
       "      <td>0</td>\n",
       "      <td>0</td>\n",
       "      <td>0</td>\n",
       "      <td>0</td>\n",
       "      <td>0</td>\n",
       "      <td>0</td>\n",
       "      <td>...</td>\n",
       "      <td>0</td>\n",
       "      <td>0</td>\n",
       "      <td>0</td>\n",
       "      <td>0</td>\n",
       "      <td>0</td>\n",
       "      <td>0</td>\n",
       "      <td>0</td>\n",
       "      <td>1</td>\n",
       "      <td>0</td>\n",
       "      <td>0</td>\n",
       "    </tr>\n",
       "    <tr>\n",
       "      <th>1</th>\n",
       "      <td>0</td>\n",
       "      <td>146</td>\n",
       "      <td>0</td>\n",
       "      <td>0</td>\n",
       "      <td>0</td>\n",
       "      <td>0</td>\n",
       "      <td>0</td>\n",
       "      <td>0</td>\n",
       "      <td>0</td>\n",
       "      <td>0</td>\n",
       "      <td>...</td>\n",
       "      <td>0</td>\n",
       "      <td>0</td>\n",
       "      <td>0</td>\n",
       "      <td>0</td>\n",
       "      <td>0</td>\n",
       "      <td>0</td>\n",
       "      <td>0</td>\n",
       "      <td>1</td>\n",
       "      <td>0</td>\n",
       "      <td>0</td>\n",
       "    </tr>\n",
       "    <tr>\n",
       "      <th>2</th>\n",
       "      <td>0</td>\n",
       "      <td>0</td>\n",
       "      <td>0</td>\n",
       "      <td>0</td>\n",
       "      <td>0</td>\n",
       "      <td>0</td>\n",
       "      <td>0</td>\n",
       "      <td>0</td>\n",
       "      <td>0</td>\n",
       "      <td>0</td>\n",
       "      <td>...</td>\n",
       "      <td>0</td>\n",
       "      <td>0</td>\n",
       "      <td>0</td>\n",
       "      <td>1</td>\n",
       "      <td>0</td>\n",
       "      <td>0</td>\n",
       "      <td>0</td>\n",
       "      <td>0</td>\n",
       "      <td>0</td>\n",
       "      <td>1</td>\n",
       "    </tr>\n",
       "    <tr>\n",
       "      <th>3</th>\n",
       "      <td>0</td>\n",
       "      <td>232</td>\n",
       "      <td>8153</td>\n",
       "      <td>0</td>\n",
       "      <td>0</td>\n",
       "      <td>0</td>\n",
       "      <td>0</td>\n",
       "      <td>0</td>\n",
       "      <td>1</td>\n",
       "      <td>0</td>\n",
       "      <td>...</td>\n",
       "      <td>0</td>\n",
       "      <td>0</td>\n",
       "      <td>0</td>\n",
       "      <td>0</td>\n",
       "      <td>0</td>\n",
       "      <td>0</td>\n",
       "      <td>0</td>\n",
       "      <td>1</td>\n",
       "      <td>0</td>\n",
       "      <td>0</td>\n",
       "    </tr>\n",
       "    <tr>\n",
       "      <th>4</th>\n",
       "      <td>0</td>\n",
       "      <td>199</td>\n",
       "      <td>420</td>\n",
       "      <td>0</td>\n",
       "      <td>0</td>\n",
       "      <td>0</td>\n",
       "      <td>0</td>\n",
       "      <td>0</td>\n",
       "      <td>1</td>\n",
       "      <td>0</td>\n",
       "      <td>...</td>\n",
       "      <td>0</td>\n",
       "      <td>0</td>\n",
       "      <td>0</td>\n",
       "      <td>0</td>\n",
       "      <td>0</td>\n",
       "      <td>0</td>\n",
       "      <td>0</td>\n",
       "      <td>1</td>\n",
       "      <td>0</td>\n",
       "      <td>0</td>\n",
       "    </tr>\n",
       "  </tbody>\n",
       "</table>\n",
       "<p>5 rows × 116 columns</p>\n",
       "</div>"
      ],
      "text/plain": [
       "   duration  src_bytes  dst_bytes  land  wrong_fragment  urgent  hot  \\\n",
       "0         0        491          0     0               0       0    0   \n",
       "1         0        146          0     0               0       0    0   \n",
       "2         0          0          0     0               0       0    0   \n",
       "3         0        232       8153     0               0       0    0   \n",
       "4         0        199        420     0               0       0    0   \n",
       "\n",
       "   num_failed_logins  logged_in  num_compromised   ...    flag_RSTO  \\\n",
       "0                  0          0                0   ...            0   \n",
       "1                  0          0                0   ...            0   \n",
       "2                  0          0                0   ...            0   \n",
       "3                  0          1                0   ...            0   \n",
       "4                  0          1                0   ...            0   \n",
       "\n",
       "   flag_RSTOS0  flag_RSTR  flag_S0  flag_S1  flag_S2  flag_S3  flag_SF  \\\n",
       "0            0          0        0        0        0        0        1   \n",
       "1            0          0        0        0        0        0        1   \n",
       "2            0          0        1        0        0        0        0   \n",
       "3            0          0        0        0        0        0        1   \n",
       "4            0          0        0        0        0        0        1   \n",
       "\n",
       "   flag_SH  target  \n",
       "0        0       0  \n",
       "1        0       0  \n",
       "2        0       1  \n",
       "3        0       0  \n",
       "4        0       0  \n",
       "\n",
       "[5 rows x 116 columns]"
      ]
     },
     "execution_count": 48,
     "metadata": {},
     "output_type": "execute_result"
    }
   ],
   "source": [
    "train20_div.head()"
   ]
  },
  {
   "cell_type": "code",
   "execution_count": 49,
   "metadata": {},
   "outputs": [
    {
     "name": "stdout",
     "output_type": "stream",
     "text": [
      "Most Positive Correlations:\n",
      " srv_rerror_rate             0.256152\n",
      "dst_host_rerror_rate        0.256312\n",
      "rerror_rate                 0.256858\n",
      "dst_host_srv_rerror_rate    0.256999\n",
      "dst_host_count              0.368828\n",
      "service_private             0.447088\n",
      "count                       0.578790\n",
      "srv_serror_rate             0.647817\n",
      "serror_rate                 0.649952\n",
      "flag_S0                     0.650227\n",
      "dst_host_serror_rate        0.651050\n",
      "dst_host_srv_serror_rate    0.653759\n",
      "target                      1.000000\n",
      "num_outbound_cmds                NaN\n",
      "is_host_login                    NaN\n",
      "Name: target, dtype: float64\n",
      "\n",
      "Most Negative Correlations:\n",
      " flag_SF                  -0.756731\n",
      "same_srv_rate            -0.749237\n",
      "dst_host_srv_count       -0.719292\n",
      "dst_host_same_srv_rate   -0.692212\n",
      "logged_in                -0.688084\n",
      "service_http             -0.562565\n",
      "service_domain_u         -0.259833\n",
      "protocol_type_udp        -0.220651\n",
      "service_smtp             -0.210676\n",
      "srv_diff_host_rate       -0.120649\n",
      "service_ftp_data         -0.088944\n",
      "service_urp_i            -0.064583\n",
      "flag_S1                  -0.052627\n",
      "is_guest_login           -0.038662\n",
      "service_IRC              -0.037264\n",
      "Name: target, dtype: float64\n"
     ]
    }
   ],
   "source": [
    "# Find correlations with the target and sort\n",
    "correlations = train20_div.corr()['target'].sort_values()\n",
    "\n",
    "# Display correlations\n",
    "print('Most Positive Correlations:\\n', correlations.tail(15))\n",
    "print('\\nMost Negative Correlations:\\n', correlations.head(15))"
   ]
  },
  {
   "cell_type": "code",
   "execution_count": 50,
   "metadata": {},
   "outputs": [
    {
     "data": {
      "image/png": "[encoded data removed]",
      "text/plain": [
       "<matplotlib.figure.Figure at 0x29fbfde2860>"
      ]
     },
     "metadata": {},
     "output_type": "display_data"
    }
   ],
   "source": [
    "# Set the style of plots\n",
    "plt.style.use('fivethirtyeight')\n",
    "\n",
    "# Plot the distribution of ages in years\n",
    "plt.hist(train20_div['dst_host_srv_serror_rate'] , edgecolor = 'k', bins = 25)\n",
    "plt.title('% of connections that have activated flag (4) s0, s1, s2 or s3, among the connections aggregated in dst_host_srv_count(33)'); plt.xlabel('dst_host_srv_serror_rate'); plt.ylabel('Count');\n"
   ]
  },
  {
   "cell_type": "code",
   "execution_count": 51,
   "metadata": {},
   "outputs": [
    {
     "data": {
      "image/png": "[encoded data removed]",
      "text/plain": [
       "<matplotlib.figure.Figure at 0x29fbfd381d0>"
      ]
     },
     "metadata": {},
     "output_type": "display_data"
    }
   ],
   "source": [
    "plt.figure(figsize = (10, 8))\n",
    "\n",
    "# KDE plot of normal occurence\n",
    "sns.kdeplot(train20_div.loc[train20_div['target'] == 0, 'dst_host_srv_serror_rate'] , label = 'target == 0')\n",
    "\n",
    "# KDE plot of attacks\n",
    "sns.kdeplot(train20_div.loc[train20_div['target'] == 1, 'dst_host_srv_serror_rate'] , label = 'target == 1')\n",
    "\n",
    "# Labeling of plot\n",
    "plt.xlabel('dst_host_srv_serror_rate'); plt.ylabel('Density'); plt.title('Distribution of Serror Rate');"
   ]
  },
  {
   "cell_type": "code",
   "execution_count": 52,
   "metadata": {},
   "outputs": [
    {
     "data": {
      "text/plain": [
       "array([0.  , 1.  , 0.01, 0.02, 0.88, 0.09, 0.48, 0.08, 0.97, 0.06, 0.05,\n",
       "       0.25, 0.14, 0.1 , 0.33, 0.96, 0.75, 0.92, 0.67, 0.36, 0.5 , 0.2 ,\n",
       "       0.93, 0.61, 0.13, 0.8 , 0.98, 0.04, 0.07, 0.3 , 0.95, 0.03, 0.66,\n",
       "       0.11, 0.94, 0.7 , 0.85, 0.15, 0.41, 0.56, 0.78, 0.69, 0.6 , 0.76,\n",
       "       0.89, 0.26, 0.32, 0.79, 0.12, 0.16, 0.91, 0.22, 0.29, 0.73, 0.49,\n",
       "       0.82, 0.4 , 0.65, 0.81, 0.84, 0.28, 0.19, 0.87, 0.42, 0.18, 0.77,\n",
       "       0.44, 0.59, 0.45, 0.71, 0.35, 0.17, 0.9 , 0.27, 0.39, 0.23, 0.62,\n",
       "       0.86, 0.55, 0.31, 0.83, 0.57, 0.72, 0.37, 0.74, 0.38, 0.34, 0.24])"
      ]
     },
     "execution_count": 52,
     "metadata": {},
     "output_type": "execute_result"
    }
   ],
   "source": [
    "train20_div[\"dst_host_srv_serror_rate\"].unique()"
   ]
  },
  {
   "cell_type": "code",
   "execution_count": 53,
   "metadata": {},
   "outputs": [
    {
     "name": "stdout",
     "output_type": "stream",
     "text": [
      "6855\n"
     ]
    }
   ],
   "source": [
    "#anything above serror rate = 0.5 is almost certainly an attack\n",
    "a=0\n",
    "b=-1\n",
    "dummy =[]\n",
    "for i in train20_div[\"target\"]:\n",
    "    b+=1\n",
    "    if train20_div[\"target\"][b]==1 and train20_div[\"dst_host_srv_serror_rate\"][b] ==1:\n",
    "        a+=1\n",
    "        dummy.append(train20_div[\"dst_host_srv_serror_rate\"][b])\n",
    "print(a)"
   ]
  },
  {
   "cell_type": "code",
   "execution_count": 54,
   "metadata": {},
   "outputs": [
    {
     "name": "stdout",
     "output_type": "stream",
     "text": [
      "Percentage of Attacks with dst_serror_rate >= 0.5 :  58.37520224814783\n"
     ]
    }
   ],
   "source": [
    "print(\"Percentage of Attacks with dst_serror_rate >= 0.5 : \", a/((train20_div.target ==1).value_counts()[True]) * 100)"
   ]
  },
  {
   "cell_type": "code",
   "execution_count": 55,
   "metadata": {},
   "outputs": [
    {
     "name": "stdout",
     "output_type": "stream",
     "text": [
      "6855\n",
      "18337\n"
     ]
    }
   ],
   "source": [
    "#new feature based on attack ==1 and dst_host_srv_serror_rate >=0.01\n",
    "\n",
    "serror_rate_attack_1 = dummy\n",
    "print(len(serror_rate_attack_1))\n",
    "diff = len(train20_div[\"dst_host_srv_serror_rate\"]) - len(serror_rate_attack_1)\n",
    "print(diff)\n",
    "\n"
   ]
  },
  {
   "cell_type": "code",
   "execution_count": 56,
   "metadata": {},
   "outputs": [
    {
     "data": {
      "text/plain": [
       "6855"
      ]
     },
     "execution_count": 56,
     "metadata": {},
     "output_type": "execute_result"
    }
   ],
   "source": [
    "dummy2 = [np.mean(serror_rate_attack_1) for i in range(0,diff)] \n",
    "len(serror_rate_attack_1)"
   ]
  },
  {
   "cell_type": "code",
   "execution_count": 57,
   "metadata": {},
   "outputs": [
    {
     "data": {
      "text/html": [
       "<div>\n",
       "<style scoped>\n",
       "    .dataframe tbody tr th:only-of-type {\n",
       "        vertical-align: middle;\n",
       "    }\n",
       "\n",
       "    .dataframe tbody tr th {\n",
       "        vertical-align: top;\n",
       "    }\n",
       "\n",
       "    .dataframe thead th {\n",
       "        text-align: right;\n",
       "    }\n",
       "</style>\n",
       "<table border=\"1\" class=\"dataframe\">\n",
       "  <thead>\n",
       "    <tr style=\"text-align: right;\">\n",
       "      <th></th>\n",
       "      <th>target</th>\n",
       "      <th>flag_S0</th>\n",
       "      <th>dst_host_serror_rate</th>\n",
       "      <th>dst_host_srv_serror_rate</th>\n",
       "      <th>flag_SF</th>\n",
       "      <th>same_srv_rate</th>\n",
       "      <th>dst_host_srv_count</th>\n",
       "    </tr>\n",
       "  </thead>\n",
       "  <tbody>\n",
       "    <tr>\n",
       "      <th>target</th>\n",
       "      <td>1.000000</td>\n",
       "      <td>0.650227</td>\n",
       "      <td>0.651050</td>\n",
       "      <td>0.653759</td>\n",
       "      <td>-0.756731</td>\n",
       "      <td>-0.749237</td>\n",
       "      <td>-0.719292</td>\n",
       "    </tr>\n",
       "    <tr>\n",
       "      <th>flag_S0</th>\n",
       "      <td>0.650227</td>\n",
       "      <td>1.000000</td>\n",
       "      <td>0.974830</td>\n",
       "      <td>0.980092</td>\n",
       "      <td>-0.751529</td>\n",
       "      <td>-0.766818</td>\n",
       "      <td>-0.552984</td>\n",
       "    </tr>\n",
       "    <tr>\n",
       "      <th>dst_host_serror_rate</th>\n",
       "      <td>0.651050</td>\n",
       "      <td>0.974830</td>\n",
       "      <td>1.000000</td>\n",
       "      <td>0.984706</td>\n",
       "      <td>-0.741698</td>\n",
       "      <td>-0.763522</td>\n",
       "      <td>-0.572560</td>\n",
       "    </tr>\n",
       "    <tr>\n",
       "      <th>dst_host_srv_serror_rate</th>\n",
       "      <td>0.653759</td>\n",
       "      <td>0.980092</td>\n",
       "      <td>0.984706</td>\n",
       "      <td>1.000000</td>\n",
       "      <td>-0.745144</td>\n",
       "      <td>-0.767487</td>\n",
       "      <td>-0.567893</td>\n",
       "    </tr>\n",
       "    <tr>\n",
       "      <th>flag_SF</th>\n",
       "      <td>-0.756731</td>\n",
       "      <td>-0.751529</td>\n",
       "      <td>-0.741698</td>\n",
       "      <td>-0.745144</td>\n",
       "      <td>1.000000</td>\n",
       "      <td>0.827456</td>\n",
       "      <td>0.669513</td>\n",
       "    </tr>\n",
       "    <tr>\n",
       "      <th>same_srv_rate</th>\n",
       "      <td>-0.749237</td>\n",
       "      <td>-0.766818</td>\n",
       "      <td>-0.763522</td>\n",
       "      <td>-0.767487</td>\n",
       "      <td>0.827456</td>\n",
       "      <td>1.000000</td>\n",
       "      <td>0.702810</td>\n",
       "    </tr>\n",
       "    <tr>\n",
       "      <th>dst_host_srv_count</th>\n",
       "      <td>-0.719292</td>\n",
       "      <td>-0.552984</td>\n",
       "      <td>-0.572560</td>\n",
       "      <td>-0.567893</td>\n",
       "      <td>0.669513</td>\n",
       "      <td>0.702810</td>\n",
       "      <td>1.000000</td>\n",
       "    </tr>\n",
       "  </tbody>\n",
       "</table>\n",
       "</div>"
      ],
      "text/plain": [
       "                            target   flag_S0  dst_host_serror_rate  \\\n",
       "target                    1.000000  0.650227              0.651050   \n",
       "flag_S0                   0.650227  1.000000              0.974830   \n",
       "dst_host_serror_rate      0.651050  0.974830              1.000000   \n",
       "dst_host_srv_serror_rate  0.653759  0.980092              0.984706   \n",
       "flag_SF                  -0.756731 -0.751529             -0.741698   \n",
       "same_srv_rate            -0.749237 -0.766818             -0.763522   \n",
       "dst_host_srv_count       -0.719292 -0.552984             -0.572560   \n",
       "\n",
       "                          dst_host_srv_serror_rate   flag_SF  same_srv_rate  \\\n",
       "target                                    0.653759 -0.756731      -0.749237   \n",
       "flag_S0                                   0.980092 -0.751529      -0.766818   \n",
       "dst_host_serror_rate                      0.984706 -0.741698      -0.763522   \n",
       "dst_host_srv_serror_rate                  1.000000 -0.745144      -0.767487   \n",
       "flag_SF                                  -0.745144  1.000000       0.827456   \n",
       "same_srv_rate                            -0.767487  0.827456       1.000000   \n",
       "dst_host_srv_count                       -0.567893  0.669513       0.702810   \n",
       "\n",
       "                          dst_host_srv_count  \n",
       "target                             -0.719292  \n",
       "flag_S0                            -0.552984  \n",
       "dst_host_serror_rate               -0.572560  \n",
       "dst_host_srv_serror_rate           -0.567893  \n",
       "flag_SF                             0.669513  \n",
       "same_srv_rate                       0.702810  \n",
       "dst_host_srv_count                  1.000000  "
      ]
     },
     "execution_count": 57,
     "metadata": {},
     "output_type": "execute_result"
    }
   ],
   "source": [
    "#Further exploratory data analysis requires interaction between features be seen\n",
    "#Taking three most negatively and positively correlated features and seeing correlations b/w them\n",
    "ext_data = train20[['target','flag_S0','dst_host_serror_rate','dst_host_srv_serror_rate', 'flag_SF','same_srv_rate','dst_host_srv_count' ]]\n",
    "ext_data_corrs = ext_data.corr()\n",
    "ext_data_corrs"
   ]
  },
  {
   "cell_type": "code",
   "execution_count": 58,
   "metadata": {},
   "outputs": [
    {
     "data": {
      "image/png": "[encoded data removed]",
      "text/plain": [
       "<matplotlib.figure.Figure at 0x29fc0c33390>"
      ]
     },
     "metadata": {},
     "output_type": "display_data"
    }
   ],
   "source": [
    "plt.figure(figsize = (8, 6))\n",
    "\n",
    "# Heatmap of correlations\n",
    "sns.heatmap(ext_data_corrs, cmap = plt.cm.RdYlBu_r, vmin = -1, annot = True, vmax = 1)\n",
    "plt.title('Correlation Heatmap');"
   ]
  },
  {
   "cell_type": "code",
   "execution_count": 59,
   "metadata": {
    "scrolled": true
   },
   "outputs": [
    {
     "data": {
      "image/png": "[encoded data removed]",
      "text/plain": [
       "<matplotlib.figure.Figure at 0x29fc0c5fac8>"
      ]
     },
     "metadata": {},
     "output_type": "display_data"
    }
   ],
   "source": [
    "plt.figure(figsize = (15,15))\n",
    "\n",
    "# iterate through the sources\n",
    "for i, source in enumerate(['flag_S0','dst_host_serror_rate','dst_host_srv_serror_rate', 'flag_SF','same_srv_rate','dst_host_srv_count' ]):\n",
    "    \n",
    "    # create a new subplot for each source\n",
    "    plt.subplot(6, 1, i+1)\n",
    "    # plot repaid loans\n",
    "    sns.kdeplot(train20_div.loc[train20_div['target'] == 0, source], label = 'target == 0')\n",
    "    # plot loans that were not repaid\n",
    "    sns.kdeplot(train20_div.loc[train20_div['target'] == 1, source], label = 'target == 1')\n",
    "    \n",
    "    # Label the plots\n",
    "    plt.title('Distribution of %s by Target Value' % source)\n",
    "    plt.xlabel('%s' % source); plt.ylabel('Density');\n",
    "    \n",
    "plt.tight_layout(pad =0.44)\n"
   ]
  },
  {
   "cell_type": "code",
   "execution_count": 60,
   "metadata": {},
   "outputs": [],
   "source": [
    "#INTERACTION TERMS \n",
    "#POLYNOMIAL FEATURES\n",
    "#WHATEVER IS DONE TO TRAIN SET NEEDS TO BE DONE TO TEST SET ASWELL\n",
    "#COULD HAVE USED PAIRS PLOT BUT LETS LEAVE THAT FOR NOW\n",
    "\n",
    "poly_features = train20_div[['flag_S0','dst_host_serror_rate','dst_host_srv_serror_rate','flag_SF','same_srv_rate','target']]\n",
    "poly_features_test =test_div[['flag_S0','dst_host_serror_rate','dst_host_srv_serror_rate','flag_SF','same_srv_rate']]\n",
    "\n",
    "\n",
    "poly_target = poly_features['target']\n",
    "poly_features = poly_features.drop(columns = ['target'])\n",
    "\n",
    "\n",
    "from sklearn.preprocessing import PolynomialFeatures\n",
    "                                  \n",
    "# Create the polynomial object with specified degree\n",
    "poly_transformer = PolynomialFeatures(degree = 2)\n",
    "\n"
   ]
  },
  {
   "cell_type": "code",
   "execution_count": 61,
   "metadata": {},
   "outputs": [
    {
     "name": "stdout",
     "output_type": "stream",
     "text": [
      "Polynomial Features shape:  (25192, 21)\n"
     ]
    }
   ],
   "source": [
    "# Train the polynomial features\n",
    "poly_transformer.fit(poly_features)\n",
    "\n",
    "# Transform the features\n",
    "poly_features = poly_transformer.transform(poly_features)\n",
    "poly_features_test = poly_transformer.transform(poly_features_test)\n",
    "print('Polynomial Features shape: ', poly_features.shape)"
   ]
  },
  {
   "cell_type": "code",
   "execution_count": 62,
   "metadata": {},
   "outputs": [
    {
     "data": {
      "text/plain": [
       "['1',\n",
       " 'flag_S0',\n",
       " 'dst_host_serror_rate',\n",
       " 'dst_host_srv_serror_rate',\n",
       " 'flag_SF',\n",
       " 'same_srv_rate',\n",
       " 'flag_S0^2',\n",
       " 'flag_S0 dst_host_serror_rate',\n",
       " 'flag_S0 dst_host_srv_serror_rate',\n",
       " 'flag_S0 flag_SF',\n",
       " 'flag_S0 same_srv_rate',\n",
       " 'dst_host_serror_rate^2',\n",
       " 'dst_host_serror_rate dst_host_srv_serror_rate',\n",
       " 'dst_host_serror_rate flag_SF',\n",
       " 'dst_host_serror_rate same_srv_rate']"
      ]
     },
     "execution_count": 62,
     "metadata": {},
     "output_type": "execute_result"
    }
   ],
   "source": [
    "poly_transformer.get_feature_names(input_features = ['flag_S0','dst_host_serror_rate','dst_host_srv_serror_rate','flag_SF','same_srv_rate'])[:15]"
   ]
  },
  {
   "cell_type": "code",
   "execution_count": 63,
   "metadata": {},
   "outputs": [
    {
     "name": "stdout",
     "output_type": "stream",
     "text": [
      "flag_SF^2                                -0.756731\n",
      "flag_SF                                  -0.756731\n",
      "same_srv_rate                            -0.749237\n",
      "same_srv_rate^2                          -0.745298\n",
      "flag_SF same_srv_rate                    -0.744432\n",
      "dst_host_serror_rate flag_SF             -0.078618\n",
      "dst_host_srv_serror_rate flag_SF         -0.065146\n",
      "dst_host_serror_rate same_srv_rate        0.231789\n",
      "flag_S0 same_srv_rate                     0.270357\n",
      "dst_host_srv_serror_rate same_srv_rate    0.278935\n",
      "Name: target, dtype: float64\n",
      "flag_S0 dst_host_serror_rate        0.656616\n",
      "flag_S0 dst_host_srv_serror_rate    0.657466\n",
      "target                              1.000000\n",
      "1                                        NaN\n",
      "flag_S0 flag_SF                          NaN\n",
      "Name: target, dtype: float64\n"
     ]
    }
   ],
   "source": [
    "# Create a dataframe of the features \n",
    "poly_features = pd.DataFrame(poly_features, \n",
    "                             columns = poly_transformer.get_feature_names(['flag_S0','dst_host_serror_rate','dst_host_srv_serror_rate','flag_SF','same_srv_rate']))\n",
    "\n",
    "# Add in the target\n",
    "poly_features['target'] = poly_target\n",
    "\n",
    "# Find the correlations with the target\n",
    "poly_corrs = poly_features.corr()['target'].sort_values()\n",
    "\n",
    "# Display most negative and most positive\n",
    "print(poly_corrs.head(10))\n",
    "print(poly_corrs.tail(5))"
   ]
  },
  {
   "cell_type": "code",
   "execution_count": 64,
   "metadata": {},
   "outputs": [],
   "source": [
    "# Put test features into dataframe\n",
    "poly_features_test = pd.DataFrame(poly_features_test, \n",
    "                                  columns = poly_transformer.get_feature_names(['flag_S0','dst_host_serror_rate','dst_host_srv_serror_rate','flag_SF','same_srv_rate']))"
   ]
  },
  {
   "cell_type": "code",
   "execution_count": 65,
   "metadata": {},
   "outputs": [],
   "source": [
    "train20_div['index_col'] = train20_div.index\n",
    "test_div['index_col'] = test_div.index"
   ]
  },
  {
   "cell_type": "code",
   "execution_count": 66,
   "metadata": {},
   "outputs": [],
   "source": [
    "# Merge polynomial features into training dataframe\n",
    "poly_features['index_col'] = train20_div['index_col']\n",
    "train20_div_poly = train20_div.merge(poly_features, on = 'index_col', how = 'left')\n"
   ]
  },
  {
   "cell_type": "code",
   "execution_count": 67,
   "metadata": {},
   "outputs": [
    {
     "name": "stdout",
     "output_type": "stream",
     "text": [
      "Training data with polynomial features shape:  (25192, 137)\n",
      "Testing data with polynomial features shape:   (22543, 137)\n"
     ]
    }
   ],
   "source": [
    "# Merge polnomial features into testing dataframe\n",
    "poly_features_test['index_col'] = test['index_col']\n",
    "test_poly = test_div.merge(poly_features_test, on = 'index_col', how = 'left')\n",
    "\n",
    "# Align the dataframes\n",
    "train20_div_poly, test_poly = train20_div_poly.align(test_poly, join = 'inner', axis = 1)\n",
    "\n",
    "# Print out the new shapes\n",
    "print('Training data with polynomial features shape: ', train20_div_poly.shape)\n",
    "print('Testing data with polynomial features shape:  ', test_poly.shape)"
   ]
  },
  {
   "cell_type": "code",
   "execution_count": 68,
   "metadata": {},
   "outputs": [],
   "source": [
    "train20_div_target = train20_div.target\n",
    "test_div = test_div.drop('target',axis=1)"
   ]
  },
  {
   "cell_type": "code",
   "execution_count": 69,
   "metadata": {},
   "outputs": [],
   "source": [
    "\n",
    "from collections import Counter\n",
    "from sklearn.model_selection import train_test_split\n",
    "from sklearn.feature_extraction.text import TfidfVectorizer, CountVectorizer\n",
    "from sklearn.naive_bayes import MultinomialNB\n",
    "from sklearn.naive_bayes import GaussianNB\n",
    "from sklearn.naive_bayes import BernoulliNB\n",
    "from sklearn.svm import SVC\n",
    "from sklearn.neural_network import MLPClassifier\n",
    "from sklearn.ensemble import AdaBoostClassifier\n",
    "from sklearn.tree import DecisionTreeClassifier\n",
    "from sklearn.ensemble import RandomForestClassifier\n",
    "from sklearn.ensemble import GradientBoostingClassifier\n",
    "from sklearn.linear_model import LogisticRegression\n",
    "from sklearn.model_selection import GridSearchCV\n",
    "from sklearn.metrics import f1_score, confusion_matrix\n",
    "\n",
    "clfs = {\n",
    "    'mnb': MultinomialNB(),\n",
    "    'gnb': GaussianNB(),\n",
    "#    'svm1': SVC(kernel='linear'),\n",
    "#   'svm2': SVC(kernel='rbf'),\n",
    "#    'svm3': SVC(kernel='sigmoid'),\n",
    "    'mlp1': MLPClassifier(),\n",
    "    'mlp2': MLPClassifier(hidden_layer_sizes=[100, 100]),\n",
    "   'ada': AdaBoostClassifier(),\n",
    "    'dtc': DecisionTreeClassifier(),\n",
    "    'rfc': RandomForestClassifier(),\n",
    "    'gbc': GradientBoostingClassifier(),\n",
    "    'lr': LogisticRegression()\n",
    "}\n"
   ]
  },
  {
   "cell_type": "code",
   "execution_count": 70,
   "metadata": {},
   "outputs": [
    {
     "name": "stdout",
     "output_type": "stream",
     "text": [
      "mnb\n"
     ]
    },
    {
     "name": "stderr",
     "output_type": "stream",
     "text": [
      "C:\\Users\\Syed Abdullah Jelani\\Anaconda3\\lib\\site-packages\\sklearn\\metrics\\classification.py:1135: UndefinedMetricWarning: F-score is ill-defined and being set to 0.0 in labels with no predicted samples.\n",
      "  'precision', 'predicted', average, warn_for)\n",
      "C:\\Users\\Syed Abdullah Jelani\\Anaconda3\\lib\\site-packages\\sklearn\\metrics\\classification.py:1137: UndefinedMetricWarning: F-score is ill-defined and being set to 0.0 in labels with no true samples.\n",
      "  'recall', 'true', average, warn_for)\n"
     ]
    },
    {
     "name": "stdout",
     "output_type": "stream",
     "text": [
      "gnb\n",
      "mlp1\n",
      "mlp2\n",
      "ada\n"
     ]
    },
    {
     "name": "stderr",
     "output_type": "stream",
     "text": [
      "C:\\Users\\Syed Abdullah Jelani\\Anaconda3\\lib\\site-packages\\sklearn\\metrics\\classification.py:1137: UndefinedMetricWarning: F-score is ill-defined and being set to 0.0 in labels with no true samples.\n",
      "  'recall', 'true', average, warn_for)\n"
     ]
    },
    {
     "name": "stdout",
     "output_type": "stream",
     "text": [
      "dtc\n"
     ]
    },
    {
     "name": "stderr",
     "output_type": "stream",
     "text": [
      "C:\\Users\\Syed Abdullah Jelani\\Anaconda3\\lib\\site-packages\\sklearn\\metrics\\classification.py:1135: UndefinedMetricWarning: F-score is ill-defined and being set to 0.0 in labels with no predicted samples.\n",
      "  'precision', 'predicted', average, warn_for)\n"
     ]
    },
    {
     "name": "stdout",
     "output_type": "stream",
     "text": [
      "rfc\n"
     ]
    },
    {
     "name": "stderr",
     "output_type": "stream",
     "text": [
      "C:\\Users\\Syed Abdullah Jelani\\Anaconda3\\lib\\site-packages\\sklearn\\metrics\\classification.py:1135: UndefinedMetricWarning: F-score is ill-defined and being set to 0.0 in labels with no predicted samples.\n",
      "  'precision', 'predicted', average, warn_for)\n",
      "C:\\Users\\Syed Abdullah Jelani\\Anaconda3\\lib\\site-packages\\sklearn\\metrics\\classification.py:1137: UndefinedMetricWarning: F-score is ill-defined and being set to 0.0 in labels with no true samples.\n",
      "  'recall', 'true', average, warn_for)\n"
     ]
    },
    {
     "name": "stdout",
     "output_type": "stream",
     "text": [
      "gbc\n",
      "lr\n"
     ]
    }
   ],
   "source": [
    "#targets are original here\n",
    "f1_scores = dict()\n",
    "for clf_name in clfs:\n",
    "    print(clf_name)\n",
    "    clf = clfs[clf_name]\n",
    "    clf.fit(train20_div_poly, train20_target)\n",
    "    y_pred = clf.predict(test_poly)\n",
    "    f1_scores[clf_name] = f1_score(y_pred, test_target,average=\"weighted\")"
   ]
  },
  {
   "cell_type": "code",
   "execution_count": 71,
   "metadata": {},
   "outputs": [
    {
     "data": {
      "text/plain": [
       "{'ada': 0.7573212302945069,\n",
       " 'dtc': 0.8078069694683315,\n",
       " 'gbc': 0.8199223840182305,\n",
       " 'gnb': 0.3662363302049329,\n",
       " 'lr': 0.7549421836411755,\n",
       " 'mlp1': 0.7489242790113695,\n",
       " 'mlp2': 0.7016212307652996,\n",
       " 'mnb': 0.260257396897179,\n",
       " 'rfc': 0.8247441595226787}"
      ]
     },
     "execution_count": 71,
     "metadata": {},
     "output_type": "execute_result"
    }
   ],
   "source": [
    "f1_scores"
   ]
  },
  {
   "cell_type": "code",
   "execution_count": 72,
   "metadata": {},
   "outputs": [
    {
     "data": {
      "text/plain": [
       "{'ada': 0.6256487601472741,\n",
       " 'dtc': 0.7248813378875926,\n",
       " 'gbc': 0.7215987224415561,\n",
       " 'gnb': 0.3216963137115734,\n",
       " 'lr': 0.635008650135297,\n",
       " 'mlp1': 0.6571441245619483,\n",
       " 'mlp2': 0.621478951337444,\n",
       " 'mnb': 0.2597258572505878,\n",
       " 'rfc': 0.7222197577962117}"
      ]
     },
     "execution_count": 72,
     "metadata": {},
     "output_type": "execute_result"
    }
   ],
   "source": [
    "accuracy={}\n",
    "for i in clfs:\n",
    "    accuracy[i] = clfs[i].score(test_poly, test_target)\n",
    "accuracy"
   ]
  },
  {
   "cell_type": "code",
   "execution_count": null,
   "metadata": {},
   "outputs": [],
   "source": [
    "#targets are worded as either attack or normal\n",
    "#f1_scores = dict()\n",
    "#for clf_name in clfs:\n",
    "#    print(clf_name)\n",
    "#    clf = clfs[clf_name]\n",
    "#    clf.fit(train20_div_poly, train20_div_target_word)\n",
    "#    y_pred = clf.predict(test_poly)\n",
    "#    f1_scores[clf_name] = f1_score(y_pred, test_target,average=\"weighted\")"
   ]
  },
  {
   "cell_type": "code",
   "execution_count": null,
   "metadata": {},
   "outputs": [],
   "source": [
    "f1_scores"
   ]
  },
  {
   "cell_type": "code",
   "execution_count": null,
   "metadata": {},
   "outputs": [],
   "source": [
    "#f1_scores are higher with original targets\n",
    "#Both accuracy and f1 scores have generally decreased with new polynomial features, though on average are nearly the same"
   ]
  },
  {
   "cell_type": "code",
   "execution_count": 74,
   "metadata": {},
   "outputs": [],
   "source": [
    "#Dimensionality reduction will be used to reduce redundant features\n",
    "#LETS DETERMINE IMPORTANT FEATURES# Make the random forest classifier\n",
    "random_forest = RandomForestClassifier(n_estimators = 100, random_state = 50, verbose = 1, n_jobs = -1)"
   ]
  },
  {
   "cell_type": "code",
   "execution_count": 75,
   "metadata": {},
   "outputs": [
    {
     "name": "stderr",
     "output_type": "stream",
     "text": [
      "[Parallel(n_jobs=-1)]: Done  42 tasks      | elapsed:    0.6s\n",
      "[Parallel(n_jobs=-1)]: Done 100 out of 100 | elapsed:    1.5s finished\n",
      "[Parallel(n_jobs=4)]: Done  42 tasks      | elapsed:    0.0s\n",
      "[Parallel(n_jobs=4)]: Done 100 out of 100 | elapsed:    0.1s finished\n"
     ]
    }
   ],
   "source": [
    "# Train on the training data\n",
    "random_forest.fit(train20_div_poly, train20_div_target)\n",
    "features = list(train20_div_poly.columns)\n",
    "\n",
    "# Extract feature importances\n",
    "feature_importance_values = random_forest.feature_importances_\n",
    "feature_importances = pd.DataFrame({'feature': features, 'importance': feature_importance_values})\n",
    "\n",
    "# Make predictions on the test data\n",
    "predictions = random_forest.predict_proba(test_poly)[:, 1]"
   ]
  },
  {
   "cell_type": "code",
   "execution_count": 76,
   "metadata": {},
   "outputs": [],
   "source": [
    "def plot_feature_importances(df):\n",
    "    \"\"\"\n",
    "    Plot importances returned by a model. This can work with any measure of\n",
    "    feature importance provided that higher importance is better. \n",
    "    \n",
    "    Args:\n",
    "        df (dataframe): feature importances. Must have the features in a column\n",
    "        called `features` and the importances in a column called `importance\n",
    "        \n",
    "    Returns:\n",
    "        shows a plot of the 15 most importance features\n",
    "        \n",
    "        df (dataframe): feature importances sorted by importance (highest to lowest) \n",
    "        with a column for normalized importance\n",
    "        \"\"\"\n",
    "    \n",
    "    # Sort features according to importance\n",
    "    df = df.sort_values('importance', ascending = False).reset_index()\n",
    "    \n",
    "    # Normalize the feature importances to add up to one\n",
    "    df['importance_normalized'] = df['importance'] / df['importance'].sum()\n",
    "\n",
    "    # Make a horizontal bar chart of feature importances\n",
    "    plt.figure(figsize = (10, 6))\n",
    "    ax = plt.subplot()\n",
    "    \n",
    "    # Need to reverse the index to plot most important on top\n",
    "    ax.barh(list(reversed(list(df.index[:15]))), \n",
    "            df['importance_normalized'].head(15), \n",
    "            align = 'center', edgecolor = 'k')\n",
    "    \n",
    "    # Set the yticks and labels\n",
    "    ax.set_yticks(list(reversed(list(df.index[:15]))))\n",
    "    ax.set_yticklabels(df['feature'].head(15))\n",
    "    \n",
    "    # Plot labeling\n",
    "    plt.xlabel('Normalized Importance'); plt.title('Feature Importances')\n",
    "    plt.show()\n",
    "    \n",
    "    return df"
   ]
  },
  {
   "cell_type": "code",
   "execution_count": 77,
   "metadata": {},
   "outputs": [
    {
     "data": {
      "image/png": "[encoded data removed]",
      "text/plain": [
       "<matplotlib.figure.Figure at 0x29fbe7c8278>"
      ]
     },
     "metadata": {},
     "output_type": "display_data"
    }
   ],
   "source": [
    "# Show the feature importances for the default features\n",
    "feature_importances_sorted = plot_feature_importances(feature_importances)"
   ]
  },
  {
   "cell_type": "code",
   "execution_count": 78,
   "metadata": {},
   "outputs": [],
   "source": [
    "selected_important_features = feature_importances_sorted[:20]"
   ]
  },
  {
   "cell_type": "code",
   "execution_count": 79,
   "metadata": {},
   "outputs": [],
   "source": [
    "#creatre new dataframe with only top 20 important features\n",
    "selected_list=[x for x in selected_important_features.feature]\n",
    "train_selected = pd.DataFrame(train20_div_poly,columns = selected_list)\n",
    "test_selected = pd.DataFrame(test_poly,columns = selected_list)"
   ]
  },
  {
   "cell_type": "code",
   "execution_count": 80,
   "metadata": {},
   "outputs": [],
   "source": [
    "\n",
    "from collections import Counter\n",
    "from sklearn.model_selection import train_test_split\n",
    "from sklearn.feature_extraction.text import TfidfVectorizer, CountVectorizer\n",
    "from sklearn.naive_bayes import MultinomialNB\n",
    "from sklearn.naive_bayes import GaussianNB\n",
    "from sklearn.naive_bayes import BernoulliNB\n",
    "from sklearn.svm import SVC\n",
    "from sklearn.neural_network import MLPClassifier\n",
    "from sklearn.ensemble import AdaBoostClassifier\n",
    "from sklearn.tree import DecisionTreeClassifier\n",
    "from sklearn.ensemble import RandomForestClassifier\n",
    "from sklearn.ensemble import GradientBoostingClassifier\n",
    "from sklearn.linear_model import LogisticRegression\n",
    "from sklearn.model_selection import GridSearchCV\n",
    "from sklearn.metrics import f1_score, confusion_matrix\n",
    "\n",
    "clfs = {\n",
    "    'mnb': MultinomialNB(),\n",
    "    'gnb': GaussianNB(),\n",
    "#    'svm1': SVC(kernel='linear'),\n",
    "#   'svm2': SVC(kernel='rbf'),\n",
    "#    'svm3': SVC(kernel='sigmoid'),\n",
    "    'mlp1': MLPClassifier(),\n",
    "    'mlp2': MLPClassifier(hidden_layer_sizes=[100, 100]),\n",
    "   'ada': AdaBoostClassifier(),\n",
    "    'dtc': DecisionTreeClassifier(),\n",
    "    'rfc': RandomForestClassifier(),\n",
    "    'gbc': GradientBoostingClassifier(),\n",
    "    'lr': LogisticRegression()\n",
    "}\n"
   ]
  },
  {
   "cell_type": "code",
   "execution_count": 81,
   "metadata": {},
   "outputs": [
    {
     "name": "stdout",
     "output_type": "stream",
     "text": [
      "mnb\n"
     ]
    },
    {
     "name": "stderr",
     "output_type": "stream",
     "text": [
      "C:\\Users\\Syed Abdullah Jelani\\Anaconda3\\lib\\site-packages\\sklearn\\metrics\\classification.py:1135: UndefinedMetricWarning: F-score is ill-defined and being set to 0.0 in labels with no predicted samples.\n",
      "  'precision', 'predicted', average, warn_for)\n",
      "C:\\Users\\Syed Abdullah Jelani\\Anaconda3\\lib\\site-packages\\sklearn\\metrics\\classification.py:1137: UndefinedMetricWarning: F-score is ill-defined and being set to 0.0 in labels with no true samples.\n",
      "  'recall', 'true', average, warn_for)\n"
     ]
    },
    {
     "name": "stdout",
     "output_type": "stream",
     "text": [
      "gnb\n",
      "mlp1\n",
      "mlp2\n",
      "ada\n"
     ]
    },
    {
     "name": "stderr",
     "output_type": "stream",
     "text": [
      "C:\\Users\\Syed Abdullah Jelani\\Anaconda3\\lib\\site-packages\\sklearn\\metrics\\classification.py:1137: UndefinedMetricWarning: F-score is ill-defined and being set to 0.0 in labels with no true samples.\n",
      "  'recall', 'true', average, warn_for)\n"
     ]
    },
    {
     "name": "stdout",
     "output_type": "stream",
     "text": [
      "dtc\n"
     ]
    },
    {
     "name": "stderr",
     "output_type": "stream",
     "text": [
      "C:\\Users\\Syed Abdullah Jelani\\Anaconda3\\lib\\site-packages\\sklearn\\metrics\\classification.py:1135: UndefinedMetricWarning: F-score is ill-defined and being set to 0.0 in labels with no predicted samples.\n",
      "  'precision', 'predicted', average, warn_for)\n"
     ]
    },
    {
     "name": "stdout",
     "output_type": "stream",
     "text": [
      "rfc\n"
     ]
    },
    {
     "name": "stderr",
     "output_type": "stream",
     "text": [
      "C:\\Users\\Syed Abdullah Jelani\\Anaconda3\\lib\\site-packages\\sklearn\\metrics\\classification.py:1135: UndefinedMetricWarning: F-score is ill-defined and being set to 0.0 in labels with no predicted samples.\n",
      "  'precision', 'predicted', average, warn_for)\n",
      "C:\\Users\\Syed Abdullah Jelani\\Anaconda3\\lib\\site-packages\\sklearn\\metrics\\classification.py:1137: UndefinedMetricWarning: F-score is ill-defined and being set to 0.0 in labels with no true samples.\n",
      "  'recall', 'true', average, warn_for)\n"
     ]
    },
    {
     "name": "stdout",
     "output_type": "stream",
     "text": [
      "gbc\n",
      "lr\n"
     ]
    }
   ],
   "source": [
    "#original\n",
    "f1_scores = dict()\n",
    "for clf_name in clfs:\n",
    "    print(clf_name)\n",
    "    clf = clfs[clf_name]\n",
    "    clf.fit(train_selected, train20_target)\n",
    "    y_pred = clf.predict(test_selected)\n",
    "    f1_scores[clf_name] = f1_score(y_pred, test_target,average=\"weighted\")"
   ]
  },
  {
   "cell_type": "code",
   "execution_count": 82,
   "metadata": {},
   "outputs": [
    {
     "data": {
      "text/plain": [
       "{'ada': 0.6191880265465329,\n",
       " 'dtc': 0.815546681216287,\n",
       " 'gbc': 0.8161386769237551,\n",
       " 'gnb': 0.38007565566887386,\n",
       " 'lr': 0.7682649420211649,\n",
       " 'mlp1': 0.7642625273067838,\n",
       " 'mlp2': 0.6493831543141314,\n",
       " 'mnb': 0.2724277477070997,\n",
       " 'rfc': 0.8239756181843311}"
      ]
     },
     "execution_count": 82,
     "metadata": {},
     "output_type": "execute_result"
    }
   ],
   "source": [
    "f1_scores"
   ]
  },
  {
   "cell_type": "code",
   "execution_count": 83,
   "metadata": {},
   "outputs": [
    {
     "data": {
      "text/plain": [
       "{'ada': 0.6191880265465329,\n",
       " 'dtc': 0.815546681216287,\n",
       " 'gbc': 0.8161386769237551,\n",
       " 'gnb': 0.38007565566887386,\n",
       " 'lr': 0.7682649420211649,\n",
       " 'mlp1': 0.7642625273067838,\n",
       " 'mlp2': 0.6493831543141314,\n",
       " 'mnb': 0.2724277477070997,\n",
       " 'rfc': 0.8239756181843311}"
      ]
     },
     "execution_count": 83,
     "metadata": {},
     "output_type": "execute_result"
    }
   ],
   "source": [
    "f1_scores"
   ]
  },
  {
   "cell_type": "code",
   "execution_count": 84,
   "metadata": {},
   "outputs": [],
   "source": [
    "#old f1 scores(1st run)\n",
    "#f1_scores"
   ]
  },
  {
   "cell_type": "code",
   "execution_count": 85,
   "metadata": {},
   "outputs": [
    {
     "data": {
      "text/plain": [
       "{'ada': 0.5203389078649692,\n",
       " 'dtc': 0.7156101672359491,\n",
       " 'gbc': 0.7158319655768974,\n",
       " 'gnb': 0.34108148871046445,\n",
       " 'lr': 0.6562569311981546,\n",
       " 'mlp1': 0.6801224326842035,\n",
       " 'mlp2': 0.5804462582619881,\n",
       " 'mnb': 0.2663354478108504,\n",
       " 'rfc': 0.7191145810229339}"
      ]
     },
     "execution_count": 85,
     "metadata": {},
     "output_type": "execute_result"
    }
   ],
   "source": [
    "accuracy={}\n",
    "for i in clfs:\n",
    "    accuracy[i] = clfs[i].score(test_selected, test_target)\n",
    "accuracy"
   ]
  },
  {
   "cell_type": "code",
   "execution_count": 86,
   "metadata": {},
   "outputs": [],
   "source": [
    "#OLD ACCURACY\n",
    "#accuracy={}\n",
    "#for i in clfs:\n",
    "#    accuracy[i] = clfs[i].score(test_poly, test_target)\n",
    "#accuracy"
   ]
  },
  {
   "cell_type": "code",
   "execution_count": 87,
   "metadata": {},
   "outputs": [],
   "source": [
    "#USING PCA ON TOP OF RANDOM FORESTS FOR FEATURE SELECTION\n",
    "from sklearn.preprocessing import StandardScaler\n",
    "scaler = StandardScaler()\n",
    "# Fit on training set only.\n",
    "scaler.fit(train_selected)\n",
    "# Apply transform to both the training set and the test set.\n",
    "train_img = scaler.transform(train_selected)\n",
    "test_img = scaler.transform(test_selected)"
   ]
  },
  {
   "cell_type": "code",
   "execution_count": 88,
   "metadata": {},
   "outputs": [],
   "source": [
    "from sklearn.decomposition import PCA\n",
    "# Make an instance of the Model\n",
    "pca = PCA(.95)"
   ]
  },
  {
   "cell_type": "code",
   "execution_count": 89,
   "metadata": {},
   "outputs": [
    {
     "data": {
      "text/plain": [
       "PCA(copy=True, iterated_power='auto', n_components=0.95, random_state=None,\n",
       "  svd_solver='auto', tol=0.0, whiten=False)"
      ]
     },
     "execution_count": 89,
     "metadata": {},
     "output_type": "execute_result"
    }
   ],
   "source": [
    "pca.fit(train_selected)\n"
   ]
  },
  {
   "cell_type": "code",
   "execution_count": 90,
   "metadata": {},
   "outputs": [],
   "source": [
    "train_selected_pca = pca.transform(train_img)\n",
    "test_selected_pca = pca.transform(test_img)"
   ]
  },
  {
   "cell_type": "code",
   "execution_count": 91,
   "metadata": {},
   "outputs": [],
   "source": [
    "\n",
    "from collections import Counter\n",
    "from sklearn.model_selection import train_test_split\n",
    "from sklearn.feature_extraction.text import TfidfVectorizer, CountVectorizer\n",
    "from sklearn.naive_bayes import MultinomialNB\n",
    "from sklearn.naive_bayes import GaussianNB\n",
    "from sklearn.naive_bayes import BernoulliNB\n",
    "from sklearn.svm import SVC\n",
    "from sklearn.neural_network import MLPClassifier\n",
    "from sklearn.ensemble import AdaBoostClassifier\n",
    "from sklearn.tree import DecisionTreeClassifier\n",
    "from sklearn.ensemble import RandomForestClassifier\n",
    "from sklearn.ensemble import GradientBoostingClassifier\n",
    "from sklearn.linear_model import LogisticRegression\n",
    "from sklearn.model_selection import GridSearchCV\n",
    "from sklearn.metrics import f1_score, confusion_matrix\n",
    "\n",
    "clfs = {\n",
    "#    'mnb': MultinomialNB(),\n",
    "    'gnb': GaussianNB(),\n",
    "#    'svm1': SVC(kernel='linear'),\n",
    "#   'svm2': SVC(kernel='rbf'),\n",
    "#    'svm3': SVC(kernel='sigmoid'),\n",
    "    'mlp1': MLPClassifier(),\n",
    "    'mlp2': MLPClassifier(hidden_layer_sizes=[100, 100]),\n",
    "   'ada': AdaBoostClassifier(),\n",
    "    'dtc': DecisionTreeClassifier(),\n",
    "    'rfc': RandomForestClassifier(),\n",
    "    'gbc': GradientBoostingClassifier(),\n",
    "    'lr': LogisticRegression()\n",
    "}\n"
   ]
  },
  {
   "cell_type": "code",
   "execution_count": 92,
   "metadata": {},
   "outputs": [
    {
     "name": "stdout",
     "output_type": "stream",
     "text": [
      "gnb\n"
     ]
    },
    {
     "name": "stderr",
     "output_type": "stream",
     "text": [
      "C:\\Users\\Syed Abdullah Jelani\\Anaconda3\\lib\\site-packages\\sklearn\\metrics\\classification.py:1135: UndefinedMetricWarning: F-score is ill-defined and being set to 0.0 in labels with no predicted samples.\n",
      "  'precision', 'predicted', average, warn_for)\n",
      "C:\\Users\\Syed Abdullah Jelani\\Anaconda3\\lib\\site-packages\\sklearn\\metrics\\classification.py:1137: UndefinedMetricWarning: F-score is ill-defined and being set to 0.0 in labels with no true samples.\n",
      "  'recall', 'true', average, warn_for)\n"
     ]
    },
    {
     "name": "stdout",
     "output_type": "stream",
     "text": [
      "mlp1\n",
      "mlp2\n",
      "ada\n"
     ]
    },
    {
     "name": "stderr",
     "output_type": "stream",
     "text": [
      "C:\\Users\\Syed Abdullah Jelani\\Anaconda3\\lib\\site-packages\\sklearn\\metrics\\classification.py:1137: UndefinedMetricWarning: F-score is ill-defined and being set to 0.0 in labels with no true samples.\n",
      "  'recall', 'true', average, warn_for)\n"
     ]
    },
    {
     "name": "stdout",
     "output_type": "stream",
     "text": [
      "dtc\n",
      "rfc\n"
     ]
    },
    {
     "name": "stderr",
     "output_type": "stream",
     "text": [
      "C:\\Users\\Syed Abdullah Jelani\\Anaconda3\\lib\\site-packages\\sklearn\\metrics\\classification.py:1137: UndefinedMetricWarning: F-score is ill-defined and being set to 0.0 in labels with no true samples.\n",
      "  'recall', 'true', average, warn_for)\n"
     ]
    },
    {
     "name": "stdout",
     "output_type": "stream",
     "text": [
      "gbc\n",
      "lr\n"
     ]
    }
   ],
   "source": [
    "#original\n",
    "f1_scores = dict()\n",
    "for clf_name in clfs:\n",
    "    print(clf_name)\n",
    "    clf = clfs[clf_name]\n",
    "    clf.fit(train_selected_pca, train20_target)\n",
    "    y_pred = clf.predict(test_selected_pca)\n",
    "    f1_scores[clf_name] = f1_score(y_pred, test_target,average=\"weighted\")"
   ]
  },
  {
   "cell_type": "code",
   "execution_count": 93,
   "metadata": {},
   "outputs": [
    {
     "data": {
      "text/plain": [
       "{'ada': 0.6021145319815211,\n",
       " 'dtc': 0.6154673980234916,\n",
       " 'gbc': 0.6148646944307072,\n",
       " 'gnb': 0.3525320730419011,\n",
       " 'lr': 0.6021145319815211,\n",
       " 'mlp1': 0.3424264705882353,\n",
       " 'mlp2': 0.6021145319815211,\n",
       " 'rfc': 0.6148646944307072}"
      ]
     },
     "execution_count": 93,
     "metadata": {},
     "output_type": "execute_result"
    }
   ],
   "source": [
    "f1_scores"
   ]
  },
  {
   "cell_type": "code",
   "execution_count": 94,
   "metadata": {},
   "outputs": [],
   "source": [
    "#well that just made it worse"
   ]
  },
  {
   "cell_type": "code",
   "execution_count": null,
   "metadata": {},
   "outputs": [],
   "source": []
  }
 ],
 "metadata": {
  "kernelspec": {
   "display_name": "Python 3",
   "language": "python",
   "name": "python3"
  },
  "language_info": {
   "codemirror_mode": {
    "name": "ipython",
    "version": 3
   },
   "file_extension": ".py",
   "mimetype": "text/x-python",
   "name": "python",
   "nbconvert_exporter": "python",
   "pygments_lexer": "ipython3",
   "version": "3.6.4"
  }
 },
 "nbformat": 4,
 "nbformat_minor": 2
}
